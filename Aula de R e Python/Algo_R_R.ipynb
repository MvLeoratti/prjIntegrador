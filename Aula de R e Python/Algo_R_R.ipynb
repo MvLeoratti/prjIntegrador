{
  "nbformat": 4,
  "nbformat_minor": 0,
  "metadata": {
    "colab": {
      "provenance": []
    },
    "kernelspec": {
      "name": "ir",
      "display_name": "R"
    },
    "language_info": {
      "name": "R"
    }
  },
  "cells": [
    {
      "cell_type": "code",
      "source": [
        "par <- function(x) {\n",
        " return (x %% 2 == 0)\n",
        "}\n",
        "\n",
        "print(par(10))"
      ],
      "metadata": {
        "colab": {
          "base_uri": "https://localhost:8080/"
        },
        "id": "ASiZz84s5VGS",
        "outputId": "53ada3ca-6210-4725-b395-0ab64f7a6a18"
      },
      "execution_count": 5,
      "outputs": [
        {
          "output_type": "stream",
          "name": "stdout",
          "text": [
            "[1] TRUE\n"
          ]
        }
      ]
    },
    {
      "cell_type": "code",
      "source": [
        "soma <- function(a,b){\n",
        "  return (a+b)\n",
        "}\n",
        "\n",
        "print(soma(10,4))"
      ],
      "metadata": {
        "colab": {
          "base_uri": "https://localhost:8080/"
        },
        "id": "RdsM74nF6-A_",
        "outputId": "69ba5e52-9370-4712-bc88-15739d2af178"
      },
      "execution_count": 6,
      "outputs": [
        {
          "output_type": "stream",
          "name": "stdout",
          "text": [
            "[1] 14\n"
          ]
        }
      ]
    },
    {
      "cell_type": "code",
      "source": [
        "media <-function(lista){\n",
        "  return (mean(lista))\n",
        "}\n",
        "\n",
        "print(media(c(1,5,6,3)))\n"
      ],
      "metadata": {
        "colab": {
          "base_uri": "https://localhost:8080/"
        },
        "id": "lnvE0M_a8e3X",
        "outputId": "6f103049-8afc-4512-c0f6-e7d9b6162f09"
      },
      "execution_count": 17,
      "outputs": [
        {
          "output_type": "stream",
          "name": "stdout",
          "text": [
            "[1] 3.75\n"
          ]
        }
      ]
    },
    {
      "cell_type": "code",
      "source": [
        "soma_matriz<-function(matriz){\n",
        "  return (sum(matriz))\n",
        "}\n",
        "\n",
        "matriz1<-matrix(1:9, nrow=3, ncol=3)\n",
        "\n",
        "print(soma_matriz(matriz1))"
      ],
      "metadata": {
        "colab": {
          "base_uri": "https://localhost:8080/"
        },
        "id": "g7yRybVV-6XS",
        "outputId": "ca4eb75b-fba7-4684-ad82-43826b2a9723"
      },
      "execution_count": 24,
      "outputs": [
        {
          "output_type": "stream",
          "name": "stdout",
          "text": [
            "[1] 45\n"
          ]
        }
      ]
    },
    {
      "cell_type": "code",
      "source": [
        "palindromo<-function(palavra){\n",
        "  return (palavra == paste(rev(strsplit(palavra, NULL)[[1]]),collapse = \"\"))\n",
        "}\n",
        "\n",
        "print(palindromo(\"Amanda\"))\n",
        "print(palindromo(\"radar\"))\n",
        "print(palindromo(\"\"))"
      ],
      "metadata": {
        "colab": {
          "base_uri": "https://localhost:8080/"
        },
        "id": "2s3ZE8tzEOaj",
        "outputId": "67c76726-4743-4e55-cbb7-759546231a7f"
      },
      "execution_count": 35,
      "outputs": [
        {
          "output_type": "stream",
          "name": "stdout",
          "text": [
            "[1] FALSE\n",
            "[1] TRUE\n",
            "[1] TRUE\n"
          ]
        }
      ]
    },
    {
      "cell_type": "code",
      "source": [
        "conta_vogais<-function(string){\n",
        "  vogais<-c(\"a\",\"e\",\"i\",\"o\",\"u\")\n",
        "  return (sum(tolower(strsplit(string, NULL)[[1]])%in% vogais))\n",
        "}\n",
        "\n",
        "print(conta_vogais('Paralelepipedo'))"
      ],
      "metadata": {
        "colab": {
          "base_uri": "https://localhost:8080/"
        },
        "id": "VfuAp15gJzVH",
        "outputId": "1f9be6c2-e106-4c49-f0b3-9e050b5837a9"
      },
      "execution_count": 37,
      "outputs": [
        {
          "output_type": "stream",
          "name": "stdout",
          "text": [
            "[1] 7\n"
          ]
        }
      ]
    },
    {
      "cell_type": "code",
      "source": [
        "produto_matriz<-function(matrizA, matrizB){\n",
        "  return(matrizA%*% matrizB)\n",
        "}\n",
        "\n",
        "matrizA<- matrix(c(1,2,3,4), nrow=2, ncol = 2)\n",
        "matrizB<- matrix(c(5,6,7,8), nrow=2, ncol = 2)\n",
        "print(produto_matriz(matrizA,matrizB))"
      ],
      "metadata": {
        "colab": {
          "base_uri": "https://localhost:8080/"
        },
        "id": "nSq5tk8ladpG",
        "outputId": "54fedcfd-33c1-4ef3-909f-be7d583c5006"
      },
      "execution_count": 38,
      "outputs": [
        {
          "output_type": "stream",
          "name": "stdout",
          "text": [
            "     [,1] [,2]\n",
            "[1,]   23   31\n",
            "[2,]   34   46\n"
          ]
        }
      ]
    },
    {
      "cell_type": "code",
      "source": [
        "fatorial<-function(n){\n",
        "  if (n==0){\n",
        "    valor <-1\n",
        "    return (valor)\n",
        "  }else{\n",
        "    return (n * fatorial(n-1))\n",
        "  }\n",
        "}\n",
        "\n",
        "print(fatorial(4))"
      ],
      "metadata": {
        "colab": {
          "base_uri": "https://localhost:8080/"
        },
        "id": "ZZshFWDcekpG",
        "outputId": "9277f9e4-eb85-47db-b31a-f953e54b7ebf"
      },
      "execution_count": 42,
      "outputs": [
        {
          "output_type": "stream",
          "name": "stdout",
          "text": [
            "[1] 24\n"
          ]
        }
      ]
    },
    {
      "cell_type": "code",
      "source": [
        "soma_N_numeros<-function(n){\n",
        "  if (n==0){\n",
        "    return (0)\n",
        "  }else{\n",
        "    return (n + soma_N_numeros(n-1))\n",
        "  }\n",
        "}\n",
        "\n",
        "print(soma_N_numeros(10))"
      ],
      "metadata": {
        "colab": {
          "base_uri": "https://localhost:8080/"
        },
        "id": "JBp0VVPLg0H2",
        "outputId": "1f34f4e0-2311-4d06-9dd7-2edd66609783"
      },
      "execution_count": 48,
      "outputs": [
        {
          "output_type": "stream",
          "name": "stdout",
          "text": [
            "[1] 55\n"
          ]
        }
      ]
    }
  ]
}