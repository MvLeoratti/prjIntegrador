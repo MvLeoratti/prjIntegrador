{
  "nbformat": 4,
  "nbformat_minor": 0,
  "metadata": {
    "colab": {
      "provenance": []
    },
    "kernelspec": {
      "name": "python3",
      "display_name": "Python 3"
    },
    "language_info": {
      "name": "python"
    }
  },
  "cells": [
    {
      "cell_type": "code",
      "execution_count": 1,
      "metadata": {
        "colab": {
          "base_uri": "https://localhost:8080/"
        },
        "id": "9AVj-ki44HAM",
        "outputId": "a0967e1d-24d3-4590-eece-7cf13273ff7a"
      },
      "outputs": [
        {
          "output_type": "stream",
          "name": "stdout",
          "text": [
            "3\n",
            "-1\n",
            "2\n",
            "0.5\n"
          ]
        }
      ],
      "source": [
        "def soma(a,b):\n",
        "    return a+b\n",
        "\n",
        "def sub(a,b):\n",
        "    return a-b\n",
        "\n",
        "def mult(a,b):\n",
        "    return a*b\n",
        "\n",
        "def div(a,b):\n",
        "    return a/b\n",
        "\n",
        "print(soma(3,5))\n",
        "print(sub(1,2))\n",
        "print(mult(1,2))\n",
        "print(div(1,2))"
      ]
    },
    {
      "cell_type": "code",
      "source": [
        "def par(numero):\n",
        "  return numero % 2 == 0\n",
        "\n",
        "print(par(10))"
      ],
      "metadata": {
        "id": "CbC2gkAR544h"
      },
      "execution_count": null,
      "outputs": []
    },
    {
      "cell_type": "code",
      "source": [
        "def media(lista):\n",
        "    return sum(lista) / len(lista)\n",
        "\n",
        "print(media([1,2,3,4,5]))"
      ],
      "metadata": {
        "colab": {
          "base_uri": "https://localhost:8080/"
        },
        "id": "BL4P-Ob-8gJ3",
        "outputId": "e4889a50-70cf-4c2b-ee2f-d9dabd0fc460"
      },
      "execution_count": 4,
      "outputs": [
        {
          "output_type": "stream",
          "name": "stdout",
          "text": [
            "3.0\n"
          ]
        }
      ]
    },
    {
      "cell_type": "code",
      "source": [
        "def soma_matrizes(matriz):\n",
        "  return sum(sum(linha) for linha in matriz)\n",
        "\n",
        "matriz = [[1,2,3],[4,5,6],[7,8,9]]\n",
        "print(soma_matrizes(matriz))\n"
      ],
      "metadata": {
        "colab": {
          "base_uri": "https://localhost:8080/"
        },
        "id": "UnNXsH-5-7c4",
        "outputId": "2d9888a6-f852-4385-e404-1642ca48e929"
      },
      "execution_count": 6,
      "outputs": [
        {
          "output_type": "stream",
          "name": "stdout",
          "text": [
            "45\n"
          ]
        }
      ]
    },
    {
      "cell_type": "code",
      "source": [
        "def palidroome(string):\n",
        "  return string == string[::-1]\n",
        "\n",
        "print(palidroome(''))"
      ],
      "metadata": {
        "colab": {
          "base_uri": "https://localhost:8080/"
        },
        "id": "DT50wWjFCCI8",
        "outputId": "d3d62180-74c5-482d-a859-981cc0d01a7f"
      },
      "execution_count": 8,
      "outputs": [
        {
          "output_type": "stream",
          "name": "stdout",
          "text": [
            "True\n"
          ]
        }
      ]
    },
    {
      "cell_type": "code",
      "source": [
        "def conta_vogais(string):\n",
        "  vogais = 'aeiou'\n",
        "  return sum(1 for letra in string.lower() if letra in vogais)\n",
        "\n",
        "print(conta_vogais('Paralelepipedo'))"
      ],
      "metadata": {
        "colab": {
          "base_uri": "https://localhost:8080/"
        },
        "id": "JQSIdh2OHAPp",
        "outputId": "0570ec73-9795-4768-e9dd-4c2bc48901a2"
      },
      "execution_count": 15,
      "outputs": [
        {
          "output_type": "stream",
          "name": "stdout",
          "text": [
            "7\n"
          ]
        }
      ]
    },
    {
      "cell_type": "code",
      "source": [
        "def produto_matrizes(matrizA,matrizB):\n",
        "  resultado = [[sum(a*b for a,b in zip(linhaA,colunaB)) for colunaB in zip(*matrizB)] for linhaA in matrizA]\n",
        "  return resultado\n",
        "\n",
        "matrizA = [[1,2],[3,4]]\n",
        "matrizB = [[5,6],[7,8]]\n",
        "print(produto_matrizes(matrizA,matrizB))"
      ],
      "metadata": {
        "colab": {
          "base_uri": "https://localhost:8080/"
        },
        "id": "2gZdUWjRLusP",
        "outputId": "bce2c0fb-46de-44f7-b820-39d3a4224e60"
      },
      "execution_count": 25,
      "outputs": [
        {
          "output_type": "stream",
          "name": "stdout",
          "text": [
            "[[19, 22], [43, 50]]\n"
          ]
        }
      ]
    },
    {
      "cell_type": "code",
      "source": [
        "#Recursivaidade é quando uma função chama ela mesma.\n",
        "\n",
        "def fatorial(n):\n",
        "  if n == 0:\n",
        "    return 1\n",
        "  else:\n",
        "    return n * fatorial(n-1)\n",
        "\n",
        "print(fatorial(4))"
      ],
      "metadata": {
        "colab": {
          "base_uri": "https://localhost:8080/"
        },
        "id": "smQCpO8ccX0_",
        "outputId": "e284ae03-ce64-47f3-90e4-c6c24de32c6d"
      },
      "execution_count": 27,
      "outputs": [
        {
          "output_type": "stream",
          "name": "stdout",
          "text": [
            "24\n"
          ]
        }
      ]
    },
    {
      "cell_type": "code",
      "source": [
        "def torres_hanoi(n,origem,destino,auxiliar):\n",
        "  if n == 1:\n",
        "    print(f'Mover disco de {origem} para {destino}')\n",
        "  else:\n",
        "    torres_hanoi(n-1,origem,auxiliar,destino)\n",
        "    print(f'Mover disco de {origem} para {destino}')\n",
        "    torres_hanoi(n-1,auxiliar,destino,origem)\n",
        "\n",
        "torres_hanoi(3,'A','C','B')"
      ],
      "metadata": {
        "colab": {
          "base_uri": "https://localhost:8080/"
        },
        "id": "Q7Jj457KdVDP",
        "outputId": "49edebe1-52bb-4ac8-d255-c3b168d5f814"
      },
      "execution_count": 28,
      "outputs": [
        {
          "output_type": "stream",
          "name": "stdout",
          "text": [
            "Mover disco de A para C\n",
            "Mover disco de A para B\n",
            "Mover disco de C para B\n",
            "Mover disco de A para C\n",
            "Mover disco de B para A\n",
            "Mover disco de B para C\n",
            "Mover disco de A para C\n"
          ]
        }
      ]
    },
    {
      "cell_type": "code",
      "source": [
        "def soma_N_numeros(n):\n",
        "  if n == 0:\n",
        "    return 0\n",
        "  else:\n",
        "    return n + soma_N_numeros(n-1)\n",
        "\n",
        "print(soma_N_numeros(10))\n",
        "\n",
        "\n"
      ],
      "metadata": {
        "colab": {
          "base_uri": "https://localhost:8080/"
        },
        "id": "lNd9wJdUgah9",
        "outputId": "9f6bd1a9-33f7-4fb2-b520-dee048f46ddd"
      },
      "execution_count": 29,
      "outputs": [
        {
          "output_type": "stream",
          "name": "stdout",
          "text": [
            "55\n"
          ]
        }
      ]
    }
  ]
}