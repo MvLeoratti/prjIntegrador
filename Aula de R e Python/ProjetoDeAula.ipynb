{
  "nbformat": 4,
  "nbformat_minor": 0,
  "metadata": {
    "colab": {
      "provenance": []
    },
    "kernelspec": {
      "name": "python3",
      "display_name": "Python 3"
    },
    "language_info": {
      "name": "python"
    }
  },
  "cells": [
    {
      "cell_type": "code",
      "execution_count": null,
      "metadata": {
        "colab": {
          "base_uri": "https://localhost:8080/"
        },
        "id": "fkaImvXPjDOi",
        "outputId": "09fcc39c-989b-47ad-af8a-062a807cf4dd"
      },
      "outputs": [
        {
          "output_type": "stream",
          "name": "stdout",
          "text": [
            "[2, 4, 6, 8, 10]\n"
          ]
        }
      ],
      "source": [
        "def numeros_pares(lista):\n",
        "    pares = []\n",
        "    for numero in lista:\n",
        "        if numero % 2 == 0:\n",
        "            pares.append(numero)\n",
        "    return pares\n",
        "\n",
        "def numeros_impares(lista):\n",
        "    impares = []\n",
        "    for numero in lista:\n",
        "        if numero % 2 != 0:\n",
        "            impares.append(numero)\n",
        "    return impares\n",
        "\n",
        "def soma_pares(lista):\n",
        "    soma = 0\n",
        "    for numero in lista:\n",
        "        if numero % 2 == 0:\n",
        "            soma += numero\n",
        "    return soma\n",
        "\n",
        "def soma_impares(lista):\n",
        "  try:\n",
        "    soma = 0\n",
        "    for numero in lista:\n",
        "        if numero % 2 != 0:\n",
        "            soma += numero\n",
        "    return soma\n",
        "    except TypeError:\n",
        "    print(\"Ocorreu um erro ao calcular a soma dos números ímpares.\")\n",
        "  finally:\n",
        "    print(\"A função 'soma_impares' foi executada.\")\n",
        "\n",
        "def maior_numero(lista):\n",
        "    maior = lista[0]\n",
        "    for numero in lista:\n",
        "        if numero > maior:\n",
        "            maior = numero\n",
        "    return maior\n",
        "\n",
        "def menor_numero(lista):\n",
        "    menor = lista[0]\n",
        "    for numero in lista:\n",
        "        if numero < menor:\n",
        "            menor = numero\n",
        "    return menor\n",
        "\n",
        "def soma_numeros(lista):\n",
        "    soma = 0\n",
        "    for numero in lista:\n",
        "        soma += numero\n",
        "    return soma\n",
        "\n",
        "def media_numeros(lista):\n",
        "  try:\n",
        "    media = soma_numeros(lista) / len(lista)\n",
        "    return media\n",
        "  except ZeroDivisionError:\n",
        "     print(\"Ocorreu um erro ao calcular a média dos números.\")\n",
        "  finally:\n",
        "    print(\"A função 'media_numeros' foi executada.\")\n"
      ]
    }
  ]
}