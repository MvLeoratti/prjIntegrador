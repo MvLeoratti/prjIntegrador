{
  "nbformat": 4,
  "nbformat_minor": 0,
  "metadata": {
    "colab": {
      "provenance": []
    },
    "kernelspec": {
      "name": "ir",
      "display_name": "R"
    },
    "language_info": {
      "name": "R"
    }
  },
  "cells": [
    {
      "cell_type": "code",
      "execution_count": null,
      "metadata": {
        "id": "pa2pjyD3nM1A"
      },
      "outputs": [],
      "source": [
        "par <- function(lista) {\n",
        " return (x %% 2 == 0)\n",
        "}\n",
        "\n",
        "impar <- function(lista) {\n",
        " return (!(x %% 2 == 0))\n",
        "}\n",
        "media <-function(lista){\n",
        "  return (mean(lista))\n",
        "}\n",
        "\n",
        "soma_impar <-function(lista){\n",
        "  return (mean(impar))\n",
        "}\n",
        "\n",
        "soma_par <-function(lista){\n",
        "  return (sum(par))\n",
        "}\n",
        "\n",
        "\n",
        "menor_par <-function(lista){\n",
        "  return (min(par))\n",
        "}\n",
        "\n",
        "menor_impar <-function(lista){\n",
        "  return (min(impar))\n",
        "}\n",
        "\n",
        "maior_par <-function(lista){\n",
        "  return (max(par))\n",
        "}\n",
        "\n",
        "maior_impar <-function(lista){\n",
        "  return (max(impar))\n",
        "}\n",
        "\n",
        "media_par <-function(lista){\n",
        "  return (mean(par))\n",
        "}\n",
        "\n",
        "media_impar <-function(lista){\n",
        "  return (mean(impar))\n",
        "}\n",
        "\n"
      ]
    }
  ]
}